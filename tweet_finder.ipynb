{
 "cells": [
  {
   "cell_type": "code",
   "execution_count": null,
   "metadata": {
    "ExecuteTime": {
     "end_time": "2020-01-16T16:16:28.273966Z",
     "start_time": "2020-01-16T16:16:27.847058Z"
    }
   },
   "outputs": [],
   "source": [
    "import os\n",
    "import tweepy as tw\n",
    "import pandas as pd\n",
    "import re\n",
    "import numpy as np\n",
    "import json"
   ]
  },
  {
   "cell_type": "code",
   "execution_count": null,
   "metadata": {
    "ExecuteTime": {
     "end_time": "2020-01-16T16:16:28.310846Z",
     "start_time": "2020-01-16T16:16:28.307833Z"
    }
   },
   "outputs": [],
   "source": [
    "def get_keys(path):\n",
    "    with open(path) as f:\n",
    "        return json.load(f)"
   ]
  },
  {
   "cell_type": "code",
   "execution_count": null,
   "metadata": {
    "ExecuteTime": {
     "end_time": "2020-01-16T16:16:28.398590Z",
     "start_time": "2020-01-16T16:16:28.394601Z"
    }
   },
   "outputs": [],
   "source": [
    "keys = get_keys(\"/Users/Andy/.secret/twitter_api.json\")"
   ]
  },
  {
   "cell_type": "code",
   "execution_count": null,
   "metadata": {
    "ExecuteTime": {
     "end_time": "2020-01-16T16:16:28.667232Z",
     "start_time": "2020-01-16T16:16:28.664240Z"
    }
   },
   "outputs": [],
   "source": [
    "consumer_key = keys['consumer_key']\n",
    "consumer_secret = keys['consumer_secret']\n",
    "access_token = keys['access_token']\n",
    "access_token_secret = keys['access_token_secret']\n"
   ]
  },
  {
   "cell_type": "code",
   "execution_count": null,
   "metadata": {
    "ExecuteTime": {
     "end_time": "2020-01-16T16:16:28.929545Z",
     "start_time": "2020-01-16T16:16:28.925555Z"
    }
   },
   "outputs": [],
   "source": [
    "auth = tw.OAuthHandler(consumer_key, consumer_secret)\n",
    "auth.set_access_token(access_token, access_token_secret)\n",
    "api = tw.API(auth, wait_on_rate_limit=True)"
   ]
  },
  {
   "cell_type": "code",
   "execution_count": null,
   "metadata": {
    "ExecuteTime": {
     "end_time": "2020-01-16T16:16:29.186204Z",
     "start_time": "2020-01-16T16:16:29.182215Z"
    }
   },
   "outputs": [],
   "source": [
    "twitter_accounts = [\"from:XboxSupport\", \"from:UPSHelp\", \"from:JetBlue\", \"from:NikeSupport\", \"from:ComcastCares\",\n",
    "                   \"from:AmazonHelp\", \"from:Zappos_Service\", \"from:AskTarget\", \"from:Tesco\", \"from:Lululemon\"]"
   ]
  },
  {
   "cell_type": "code",
   "execution_count": null,
   "metadata": {
    "ExecuteTime": {
     "end_time": "2020-01-16T16:16:29.437292Z",
     "start_time": "2020-01-16T16:16:29.435274Z"
    }
   },
   "outputs": [],
   "source": [
    "#Define the search term and the date_since date as variables\n",
    "search_words = \"from:XboxSupport\"\n",
    "date_since = \"2020-1-13\""
   ]
  },
  {
   "cell_type": "code",
   "execution_count": null,
   "metadata": {
    "ExecuteTime": {
     "end_time": "2020-01-16T16:16:29.720757Z",
     "start_time": "2020-01-16T16:16:29.714746Z"
    }
   },
   "outputs": [],
   "source": [
    "#new_search = search_words + \"-filter:links -filter:retweets -filter:media -filter:native_video -filter:images -filter:twimg -filter:replies\"\n",
    "new_search = search_words\n",
    "\n",
    "new_search"
   ]
  },
  {
   "cell_type": "code",
   "execution_count": null,
   "metadata": {
    "ExecuteTime": {
     "start_time": "2020-01-16T16:16:30.359Z"
    }
   },
   "outputs": [],
   "source": [
    "tweet_list = []\n",
    "for account in twitter_accounts:\n",
    "    tweets = tw.Cursor(api.search,\n",
    "                      q=account,\n",
    "                      lang='en',).items(10)\n",
    "    new_tweets = [tweet.text for tweet in tweets]\n",
    "    tweet_list += new_tweets\n",
    "    print(account)"
   ]
  },
  {
   "cell_type": "code",
   "execution_count": null,
   "metadata": {
    "ExecuteTime": {
     "end_time": "2020-01-16T16:09:55.640397Z",
     "start_time": "2020-01-16T16:09:55.632419Z"
    }
   },
   "outputs": [],
   "source": [
    "tweet_list"
   ]
  },
  {
   "cell_type": "code",
   "execution_count": null,
   "metadata": {
    "ExecuteTime": {
     "end_time": "2020-01-16T16:10:15.770826Z",
     "start_time": "2020-01-16T16:10:15.766836Z"
    }
   },
   "outputs": [],
   "source": [
    "len(tweet_list)"
   ]
  },
  {
   "cell_type": "code",
   "execution_count": null,
   "metadata": {
    "ExecuteTime": {
     "end_time": "2020-01-14T18:13:48.420096Z",
     "start_time": "2020-01-14T18:13:48.390176Z"
    }
   },
   "outputs": [],
   "source": [
    "def remove_pattern(input_txt, pattern):\n",
    "    r = re.findall(pattern, input_txt)\n",
    "    for i in r:\n",
    "        input_txt = re.sub(i, '', input_txt)        \n",
    "    return input_txt\n",
    "def clean_tweets(lst):\n",
    "    # remove twitter Return handles (RT @xxx:)\n",
    "    lst = np.vectorize(remove_pattern)(lst, \"RT @[\\w]*:\")\n",
    "    # remove twitter handles (@xxx)\n",
    "    lst = np.vectorize(remove_pattern)(lst, \"@[\\w]*\")\n",
    "    # remove URL links (httpxxx)\n",
    "    lst = np.vectorize(remove_pattern)(lst, \"https?://[A-Za-z0-9./]*\")\n",
    "    # remove special characters, numbers, punctuations (except for #)\n",
    "    lst = np.core.defchararray.replace(lst, \"[^a-zA-Z#]\", \" \")\n",
    "    return lst\n",
    "\n",
    "tweets = clean_tweets(tweet_list)"
   ]
  },
  {
   "cell_type": "code",
   "execution_count": null,
   "metadata": {
    "ExecuteTime": {
     "end_time": "2020-01-14T18:12:55.323234Z",
     "start_time": "2020-01-14T18:12:44.657Z"
    }
   },
   "outputs": [],
   "source": [
    "tweets"
   ]
  },
  {
   "cell_type": "code",
   "execution_count": null,
   "metadata": {
    "ExecuteTime": {
     "end_time": "2020-01-14T18:13:53.421695Z",
     "start_time": "2020-01-14T18:13:53.417678Z"
    }
   },
   "outputs": [],
   "source": [
    "import csv"
   ]
  },
  {
   "cell_type": "code",
   "execution_count": null,
   "metadata": {
    "ExecuteTime": {
     "end_time": "2020-01-14T18:13:53.595230Z",
     "start_time": "2020-01-14T18:13:53.590217Z"
    }
   },
   "outputs": [],
   "source": [
    "with open('data_wendys.csv', 'w', newline='' , encoding='utf-8') as myfile:\n",
    "    wr = csv.writer(myfile, delimiter=',')\n",
    "    wr.writerow(tweets)"
   ]
  },
  {
   "cell_type": "code",
   "execution_count": null,
   "metadata": {},
   "outputs": [],
   "source": []
  }
 ],
 "metadata": {
  "kernelspec": {
   "display_name": "Python 3",
   "language": "python",
   "name": "python3"
  },
  "language_info": {
   "codemirror_mode": {
    "name": "ipython",
    "version": 3
   },
   "file_extension": ".py",
   "mimetype": "text/x-python",
   "name": "python",
   "nbconvert_exporter": "python",
   "pygments_lexer": "ipython3",
   "version": "3.7.3"
  },
  "toc": {
   "base_numbering": 1,
   "nav_menu": {},
   "number_sections": true,
   "sideBar": true,
   "skip_h1_title": false,
   "title_cell": "Table of Contents",
   "title_sidebar": "Contents",
   "toc_cell": false,
   "toc_position": {},
   "toc_section_display": true,
   "toc_window_display": false
  },
  "varInspector": {
   "cols": {
    "lenName": 16,
    "lenType": 16,
    "lenVar": 40
   },
   "kernels_config": {
    "python": {
     "delete_cmd_postfix": "",
     "delete_cmd_prefix": "del ",
     "library": "var_list.py",
     "varRefreshCmd": "print(var_dic_list())"
    },
    "r": {
     "delete_cmd_postfix": ") ",
     "delete_cmd_prefix": "rm(",
     "library": "var_list.r",
     "varRefreshCmd": "cat(var_dic_list()) "
    }
   },
   "types_to_exclude": [
    "module",
    "function",
    "builtin_function_or_method",
    "instance",
    "_Feature"
   ],
   "window_display": false
  }
 },
 "nbformat": 4,
 "nbformat_minor": 2
}
