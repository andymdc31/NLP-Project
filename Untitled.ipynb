{
 "cells": [
  {
   "cell_type": "code",
   "execution_count": 11,
   "metadata": {
    "ExecuteTime": {
     "end_time": "2020-01-09T18:05:40.600772Z",
     "start_time": "2020-01-09T18:05:40.596781Z"
    }
   },
   "outputs": [],
   "source": [
    "import os\n",
    "import tweepy as tw\n",
    "import pandas as pd\n",
    "import re"
   ]
  },
  {
   "cell_type": "code",
   "execution_count": 3,
   "metadata": {
    "ExecuteTime": {
     "end_time": "2020-01-09T18:05:21.839808Z",
     "start_time": "2020-01-09T18:05:21.835819Z"
    }
   },
   "outputs": [],
   "source": [
    "consumer_key = 'fnEFcjzMkxLFKQZuoTn8jlfLS'\n",
    "consumer_secret = 'ooX5m39wrtc9ZQna52i1is4XXOmLvPOsN2mZPLVxZ30AcuFbAP'\n",
    "access_token = '1209508113306603520-ZLhjODFZxZlbOCjfsKrXN50UGUz0ZJ'\n",
    "access_token_secret = 'YyuLq4UcCTBckGFzCVf14qgJXZmu5PP81GhBZ0lHKUpDv'"
   ]
  },
  {
   "cell_type": "code",
   "execution_count": 4,
   "metadata": {
    "ExecuteTime": {
     "end_time": "2020-01-09T18:05:21.853770Z",
     "start_time": "2020-01-09T18:05:21.841804Z"
    }
   },
   "outputs": [],
   "source": [
    "auth = tw.OAuthHandler(consumer_key, consumer_secret)\n",
    "auth.set_access_token(access_token, access_token_secret)\n",
    "api = tw.API(auth, wait_on_rate_limit=True)"
   ]
  },
  {
   "cell_type": "code",
   "execution_count": 5,
   "metadata": {
    "ExecuteTime": {
     "end_time": "2020-01-09T18:05:22.180895Z",
     "start_time": "2020-01-09T18:05:21.856763Z"
    }
   },
   "outputs": [
    {
     "data": {
      "text/plain": [
       "Status(_api=<tweepy.api.API object at 0x000002B57C878588>, _json={'created_at': 'Thu Jan 09 18:05:23 +0000 2020', 'id': 1215333762659225600, 'id_str': '1215333762659225600', 'text': \"Look I'm tweeting from #Python\", 'truncated': False, 'entities': {'hashtags': [{'text': 'Python', 'indices': [23, 30]}], 'symbols': [], 'user_mentions': [], 'urls': []}, 'source': '<a href=\"https://github.com/andymdc31\" rel=\"nofollow\">tweet bot learner</a>', 'in_reply_to_status_id': None, 'in_reply_to_status_id_str': None, 'in_reply_to_user_id': None, 'in_reply_to_user_id_str': None, 'in_reply_to_screen_name': None, 'user': {'id': 1209508113306603520, 'id_str': '1209508113306603520', 'name': 'tweetbotlearner', 'screen_name': 'tweetbotlearner', 'location': '', 'description': 'Twitter taught me', 'url': None, 'entities': {'description': {'urls': []}}, 'protected': False, 'followers_count': 0, 'friends_count': 0, 'listed_count': 0, 'created_at': 'Tue Dec 24 16:16:30 +0000 2019', 'favourites_count': 0, 'utc_offset': None, 'time_zone': None, 'geo_enabled': False, 'verified': False, 'statuses_count': 3, 'lang': None, 'contributors_enabled': False, 'is_translator': False, 'is_translation_enabled': False, 'profile_background_color': 'F5F8FA', 'profile_background_image_url': None, 'profile_background_image_url_https': None, 'profile_background_tile': False, 'profile_image_url': 'http://abs.twimg.com/sticky/default_profile_images/default_profile_normal.png', 'profile_image_url_https': 'https://abs.twimg.com/sticky/default_profile_images/default_profile_normal.png', 'profile_link_color': '1DA1F2', 'profile_sidebar_border_color': 'C0DEED', 'profile_sidebar_fill_color': 'DDEEF6', 'profile_text_color': '333333', 'profile_use_background_image': True, 'has_extended_profile': True, 'default_profile': True, 'default_profile_image': True, 'can_media_tag': True, 'followed_by': False, 'following': False, 'follow_request_sent': False, 'notifications': False, 'translator_type': 'none'}, 'geo': None, 'coordinates': None, 'place': None, 'contributors': None, 'is_quote_status': False, 'retweet_count': 0, 'favorite_count': 0, 'favorited': False, 'retweeted': False, 'lang': 'en'}, created_at=datetime.datetime(2020, 1, 9, 18, 5, 23), id=1215333762659225600, id_str='1215333762659225600', text=\"Look I'm tweeting from #Python\", truncated=False, entities={'hashtags': [{'text': 'Python', 'indices': [23, 30]}], 'symbols': [], 'user_mentions': [], 'urls': []}, source='tweet bot learner', source_url='https://github.com/andymdc31', in_reply_to_status_id=None, in_reply_to_status_id_str=None, in_reply_to_user_id=None, in_reply_to_user_id_str=None, in_reply_to_screen_name=None, author=User(_api=<tweepy.api.API object at 0x000002B57C878588>, _json={'id': 1209508113306603520, 'id_str': '1209508113306603520', 'name': 'tweetbotlearner', 'screen_name': 'tweetbotlearner', 'location': '', 'description': 'Twitter taught me', 'url': None, 'entities': {'description': {'urls': []}}, 'protected': False, 'followers_count': 0, 'friends_count': 0, 'listed_count': 0, 'created_at': 'Tue Dec 24 16:16:30 +0000 2019', 'favourites_count': 0, 'utc_offset': None, 'time_zone': None, 'geo_enabled': False, 'verified': False, 'statuses_count': 3, 'lang': None, 'contributors_enabled': False, 'is_translator': False, 'is_translation_enabled': False, 'profile_background_color': 'F5F8FA', 'profile_background_image_url': None, 'profile_background_image_url_https': None, 'profile_background_tile': False, 'profile_image_url': 'http://abs.twimg.com/sticky/default_profile_images/default_profile_normal.png', 'profile_image_url_https': 'https://abs.twimg.com/sticky/default_profile_images/default_profile_normal.png', 'profile_link_color': '1DA1F2', 'profile_sidebar_border_color': 'C0DEED', 'profile_sidebar_fill_color': 'DDEEF6', 'profile_text_color': '333333', 'profile_use_background_image': True, 'has_extended_profile': True, 'default_profile': True, 'default_profile_image': True, 'can_media_tag': True, 'followed_by': False, 'following': False, 'follow_request_sent': False, 'notifications': False, 'translator_type': 'none'}, id=1209508113306603520, id_str='1209508113306603520', name='tweetbotlearner', screen_name='tweetbotlearner', location='', description='Twitter taught me', url=None, entities={'description': {'urls': []}}, protected=False, followers_count=0, friends_count=0, listed_count=0, created_at=datetime.datetime(2019, 12, 24, 16, 16, 30), favourites_count=0, utc_offset=None, time_zone=None, geo_enabled=False, verified=False, statuses_count=3, lang=None, contributors_enabled=False, is_translator=False, is_translation_enabled=False, profile_background_color='F5F8FA', profile_background_image_url=None, profile_background_image_url_https=None, profile_background_tile=False, profile_image_url='http://abs.twimg.com/sticky/default_profile_images/default_profile_normal.png', profile_image_url_https='https://abs.twimg.com/sticky/default_profile_images/default_profile_normal.png', profile_link_color='1DA1F2', profile_sidebar_border_color='C0DEED', profile_sidebar_fill_color='DDEEF6', profile_text_color='333333', profile_use_background_image=True, has_extended_profile=True, default_profile=True, default_profile_image=True, can_media_tag=True, followed_by=False, following=False, follow_request_sent=False, notifications=False, translator_type='none'), user=User(_api=<tweepy.api.API object at 0x000002B57C878588>, _json={'id': 1209508113306603520, 'id_str': '1209508113306603520', 'name': 'tweetbotlearner', 'screen_name': 'tweetbotlearner', 'location': '', 'description': 'Twitter taught me', 'url': None, 'entities': {'description': {'urls': []}}, 'protected': False, 'followers_count': 0, 'friends_count': 0, 'listed_count': 0, 'created_at': 'Tue Dec 24 16:16:30 +0000 2019', 'favourites_count': 0, 'utc_offset': None, 'time_zone': None, 'geo_enabled': False, 'verified': False, 'statuses_count': 3, 'lang': None, 'contributors_enabled': False, 'is_translator': False, 'is_translation_enabled': False, 'profile_background_color': 'F5F8FA', 'profile_background_image_url': None, 'profile_background_image_url_https': None, 'profile_background_tile': False, 'profile_image_url': 'http://abs.twimg.com/sticky/default_profile_images/default_profile_normal.png', 'profile_image_url_https': 'https://abs.twimg.com/sticky/default_profile_images/default_profile_normal.png', 'profile_link_color': '1DA1F2', 'profile_sidebar_border_color': 'C0DEED', 'profile_sidebar_fill_color': 'DDEEF6', 'profile_text_color': '333333', 'profile_use_background_image': True, 'has_extended_profile': True, 'default_profile': True, 'default_profile_image': True, 'can_media_tag': True, 'followed_by': False, 'following': False, 'follow_request_sent': False, 'notifications': False, 'translator_type': 'none'}, id=1209508113306603520, id_str='1209508113306603520', name='tweetbotlearner', screen_name='tweetbotlearner', location='', description='Twitter taught me', url=None, entities={'description': {'urls': []}}, protected=False, followers_count=0, friends_count=0, listed_count=0, created_at=datetime.datetime(2019, 12, 24, 16, 16, 30), favourites_count=0, utc_offset=None, time_zone=None, geo_enabled=False, verified=False, statuses_count=3, lang=None, contributors_enabled=False, is_translator=False, is_translation_enabled=False, profile_background_color='F5F8FA', profile_background_image_url=None, profile_background_image_url_https=None, profile_background_tile=False, profile_image_url='http://abs.twimg.com/sticky/default_profile_images/default_profile_normal.png', profile_image_url_https='https://abs.twimg.com/sticky/default_profile_images/default_profile_normal.png', profile_link_color='1DA1F2', profile_sidebar_border_color='C0DEED', profile_sidebar_fill_color='DDEEF6', profile_text_color='333333', profile_use_background_image=True, has_extended_profile=True, default_profile=True, default_profile_image=True, can_media_tag=True, followed_by=False, following=False, follow_request_sent=False, notifications=False, translator_type='none'), geo=None, coordinates=None, place=None, contributors=None, is_quote_status=False, retweet_count=0, favorite_count=0, favorited=False, retweeted=False, lang='en')"
      ]
     },
     "execution_count": 5,
     "metadata": {},
     "output_type": "execute_result"
    }
   ],
   "source": [
    "#post a tweet\n",
    "api.update_status(\"Look I'm tweeting from #Python\")"
   ]
  },
  {
   "cell_type": "code",
   "execution_count": 6,
   "metadata": {
    "ExecuteTime": {
     "end_time": "2020-01-09T18:05:22.186879Z",
     "start_time": "2020-01-09T18:05:22.182891Z"
    }
   },
   "outputs": [],
   "source": [
    "#Define the search term and the date_since date as variables\n",
    "search_words = \"\\\"data science\\\"\"\n",
    "date_since = \"2019-12-3\""
   ]
  },
  {
   "cell_type": "code",
   "execution_count": 7,
   "metadata": {
    "ExecuteTime": {
     "end_time": "2020-01-09T18:05:22.200844Z",
     "start_time": "2020-01-09T18:05:22.188875Z"
    }
   },
   "outputs": [
    {
     "data": {
      "text/plain": [
       "'\"data science\" -filter:links -filter:retweets -filter:media -filter:native_video -filter:images -filter:twimg -filter:replies'"
      ]
     },
     "execution_count": 7,
     "metadata": {},
     "output_type": "execute_result"
    }
   ],
   "source": [
    "new_search = search_words + \" -filter:links -filter:retweets -filter:media -filter:native_video -filter:images -filter:twimg -filter:replies\"\n",
    "new_search"
   ]
  },
  {
   "cell_type": "code",
   "execution_count": 8,
   "metadata": {
    "ExecuteTime": {
     "end_time": "2020-01-09T18:05:22.599372Z",
     "start_time": "2020-01-09T18:05:22.202836Z"
    }
   },
   "outputs": [],
   "source": [
    "tweets = tw.Cursor(api.search,\n",
    "                  q=new_search,\n",
    "                  lang='en',).items(10)\n",
    "\n",
    "tweet_list = [tweet.text for tweet in tweets]"
   ]
  },
  {
   "cell_type": "code",
   "execution_count": 9,
   "metadata": {
    "ExecuteTime": {
     "end_time": "2020-01-09T18:05:22.607351Z",
     "start_time": "2020-01-09T18:05:22.602365Z"
    }
   },
   "outputs": [
    {
     "data": {
      "text/plain": [
       "['I have gotten a proposal for an introductory data science textbook with no prerequisites. If anyone is teaching/pla… https://t.co/oFWjzQsSH0',\n",
       " 'Women in Data Science (WiDS) returns to Livermore on March 2. We’re hosting a livestream plus local speakers, speed… https://t.co/hvOyE7Y4Kn',\n",
       " 'For all those starting to data science or any new technical skill this year, I’d recommend reading or listening to… https://t.co/AySVXxxVsN',\n",
       " \"Although it is also falling in RedMonk's ranking, analysts say R continues to serve as a “vibrant base of analytic… https://t.co/yUoH76dRew\",\n",
       " 'If you could create any crew for your favorite Starship, who would you choose?\\nShip: ENT-E\\nCaptain: Picard\\nXO: Rike… https://t.co/a5OxHdP0vA',\n",
       " 'Understanding Singular Value Decomposition and its Application in Data Science https://t.co/JHU5pgOovb',\n",
       " 'Hey #codemash if any of you fancy running your own small country, then pop along to NILE at 1:00pm and I’ll show yo… https://t.co/JwCgPWn09j',\n",
       " '#PoliSciTwitter, have UG students who are interested in IR and want to learn about doing research? Tell them to app… https://t.co/xPcJzaUSk8',\n",
       " 'Data Science is just: cats cases jut dine i.',\n",
       " 'want to get certified in Data science , @DataCamp  or @edurekaIN  or @simplilearn , suggestions are welcome']"
      ]
     },
     "execution_count": 9,
     "metadata": {},
     "output_type": "execute_result"
    }
   ],
   "source": [
    "tweet_list"
   ]
  },
  {
   "cell_type": "code",
   "execution_count": 12,
   "metadata": {
    "ExecuteTime": {
     "end_time": "2020-01-09T18:05:48.729674Z",
     "start_time": "2020-01-09T18:05:48.718704Z"
    }
   },
   "outputs": [],
   "source": [
    "def remove_pattern(input_txt, pattern):\n",
    "    r = re.findall(pattern, input_txt)\n",
    "    for i in r:\n",
    "        input_txt = re.sub(i, '', input_txt)        \n",
    "    return input_txt\n",
    "def clean_tweets(lst):\n",
    "    # remove twitter Return handles (RT @xxx:)\n",
    "    lst = np.vectorize(remove_pattern)(lst, \"RT @[\\w]*:\")\n",
    "    # remove twitter handles (@xxx)\n",
    "    lst = np.vectorize(remove_pattern)(lst, \"@[\\w]*\")\n",
    "    # remove URL links (httpxxx)\n",
    "    lst = np.vectorize(remove_pattern)(lst, \"https?://[A-Za-z0-9./]*\")\n",
    "    # remove special characters, numbers, punctuations (except for #)\n",
    "    lst = np.core.defchararray.replace(lst, \"[^a-zA-Z#]\", \" \")\n",
    "    return lst\n",
    "\n",
    "tweets = clean_tweets(tweet_list)"
   ]
  },
  {
   "cell_type": "code",
   "execution_count": 13,
   "metadata": {
    "ExecuteTime": {
     "end_time": "2020-01-09T18:05:51.064220Z",
     "start_time": "2020-01-09T18:05:51.059233Z"
    }
   },
   "outputs": [
    {
     "data": {
      "text/plain": [
       "array(['I have gotten a proposal for an introductory data science textbook with no prerequisites. If anyone is teaching/pla… ',\n",
       "       'Women in Data Science (WiDS) returns to Livermore on March 2. We’re hosting a livestream plus local speakers, speed… ',\n",
       "       'For all those starting to data science or any new technical skill this year, I’d recommend reading or listening to… ',\n",
       "       \"Although it is also falling in RedMonk's ranking, analysts say R continues to serve as a “vibrant base of analytic… \",\n",
       "       'If you could create any crew for your favorite Starship, who would you choose?\\nShip: ENT-E\\nCaptain: Picard\\nXO: Rike… ',\n",
       "       'Understanding Singular Value Decomposition and its Application in Data Science ',\n",
       "       'Hey #codemash if any of you fancy running your own small country, then pop along to NILE at 1:00pm and I’ll show yo… ',\n",
       "       '#PoliSciTwitter, have UG students who are interested in IR and want to learn about doing research? Tell them to app… ',\n",
       "       'Data Science is just: cats cases jut dine i.',\n",
       "       'want to get certified in Data science ,   or   or  , suggestions are welcome'],\n",
       "      dtype='<U117')"
      ]
     },
     "execution_count": 13,
     "metadata": {},
     "output_type": "execute_result"
    }
   ],
   "source": [
    "tweets"
   ]
  },
  {
   "cell_type": "code",
   "execution_count": null,
   "metadata": {
    "ExecuteTime": {
     "end_time": "2020-01-09T18:05:22.684146Z",
     "start_time": "2020-01-09T18:05:21.321Z"
    }
   },
   "outputs": [],
   "source": [
    "import csv"
   ]
  },
  {
   "cell_type": "code",
   "execution_count": null,
   "metadata": {
    "ExecuteTime": {
     "end_time": "2020-01-09T18:05:22.685143Z",
     "start_time": "2020-01-09T18:05:21.322Z"
    }
   },
   "outputs": [],
   "source": [
    "with open('data.csv', 'w', newline='' , encoding='utf-8') as myfile:\n",
    "    wr = csv.writer(myfile, delimiter=',')\n",
    "    wr.writerow(tweet_list)"
   ]
  },
  {
   "cell_type": "code",
   "execution_count": null,
   "metadata": {},
   "outputs": [],
   "source": []
  }
 ],
 "metadata": {
  "kernelspec": {
   "display_name": "Python 3",
   "language": "python",
   "name": "python3"
  },
  "language_info": {
   "codemirror_mode": {
    "name": "ipython",
    "version": 3
   },
   "file_extension": ".py",
   "mimetype": "text/x-python",
   "name": "python",
   "nbconvert_exporter": "python",
   "pygments_lexer": "ipython3",
   "version": "3.7.3"
  },
  "toc": {
   "base_numbering": 1,
   "nav_menu": {},
   "number_sections": true,
   "sideBar": true,
   "skip_h1_title": false,
   "title_cell": "Table of Contents",
   "title_sidebar": "Contents",
   "toc_cell": false,
   "toc_position": {},
   "toc_section_display": true,
   "toc_window_display": false
  },
  "varInspector": {
   "cols": {
    "lenName": 16,
    "lenType": 16,
    "lenVar": 40
   },
   "kernels_config": {
    "python": {
     "delete_cmd_postfix": "",
     "delete_cmd_prefix": "del ",
     "library": "var_list.py",
     "varRefreshCmd": "print(var_dic_list())"
    },
    "r": {
     "delete_cmd_postfix": ") ",
     "delete_cmd_prefix": "rm(",
     "library": "var_list.r",
     "varRefreshCmd": "cat(var_dic_list()) "
    }
   },
   "types_to_exclude": [
    "module",
    "function",
    "builtin_function_or_method",
    "instance",
    "_Feature"
   ],
   "window_display": false
  }
 },
 "nbformat": 4,
 "nbformat_minor": 2
}
